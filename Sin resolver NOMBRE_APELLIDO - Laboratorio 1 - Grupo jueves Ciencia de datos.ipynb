{
 "cells": [
  {
   "cell_type": "code",
   "execution_count": 1,
   "id": "ad6b6c73-7e77-4f88-b6f1-a04d88f81ac3",
   "metadata": {},
   "outputs": [],
   "source": [
    "import pandas as pd\n",
    "import numpy as np\n",
    "pd.set_option('display.max_columns',None)\n",
    "import matplotlib.pyplot as plt\n",
    "import seaborn as sns"
   ]
  },
  {
   "cell_type": "markdown",
   "id": "589c6781-0f64-4066-8b90-58a0dc26952e",
   "metadata": {},
   "source": [
    "## Laboratorio 1: Análisis de estadísticas de jugadores de la NBA (16 puntos + 4 puntos de bono)\n",
    "Este dataset contiene estadísticas de jugadores de la NBA a lo largo de múltiples temporadas. Cada fila representa a un jugador en una temporada específica, incluyendo datos personales, información de draft y estadísticas de rendimiento en cancha.\n",
    "\n",
    "**Descripción general**\n",
    "\n",
    "El dataset contiene más de 12.000 registros y abarca varias temporadas de la NBA, con estadísticas agregadas por jugador y por temporada.\n",
    "\n",
    "\n",
    "| Variable            | Descripción                                                 |\n",
    "| ------------------- | ----------------------------------------------------------- |\n",
    "| `player_name`       | Nombre completo del jugador.                                |\n",
    "| `team_abbreviation` | Sigla del equipo al que pertenece el jugador esa temporada. |\n",
    "| `age`               | Edad del jugador durante la temporada.                      |\n",
    "| `player_height`     | Altura del jugador en centímetros.                               |\n",
    "| `player_weight`     | Peso del jugador en kilogramos.                             |\n",
    "| `college`           | Universidad de procedencia (si aplica).                     |\n",
    "| `country`           | País de origen del jugador.                                 |\n",
    "| `gp`                | Partidos jugados (games played) en la temporada.            |\n",
    "| `pts`               | Promedio de puntos por partido.                             |\n",
    "| `reb`               | Promedio de rebotes por partido.                            |\n",
    "| `ast`               | Promedio de asistencias por partido.                        |\n",
    "| `season`            | Temporada correspondiente al registro (e.g., \"2017-18\").    |\n"
   ]
  },
  {
   "cell_type": "code",
   "execution_count": 2,
   "id": "b68ab31c-219e-4530-a775-7a6b6189c5e3",
   "metadata": {},
   "outputs": [
    {
     "data": {
      "text/plain": [
       "(12844, 12)"
      ]
     },
     "execution_count": 2,
     "metadata": {},
     "output_type": "execute_result"
    }
   ],
   "source": [
    "df = pd.read_csv('https://raw.githubusercontent.com/catalinanaranjoromero/dataset/refs/heads/main/basketball_stats.csv')\n",
    "df.shape"
   ]
  },
  {
   "cell_type": "markdown",
   "id": "0d0f0d1e-817e-49ed-89ab-0e2beea2f288",
   "metadata": {},
   "source": [
    "**1. Rango del promedio de puntos por partido para el Top-10 de jugadores (5 puntos en total)**\n",
    "\n",
    "a. Obtener la lista de los 10 jugadores con mayor suma de pts a lo largo de todas sus temporadas presentes en el dataset. **(1 punto)**\n",
    "\n",
    "b. Solo para esos jugadores, hallar el mínimo y el máximo de su promedio de puntos por partido (pts) considerando todas sus temporadas. **(1.5 puntos)**\n",
    "\n",
    "c. Calcular el rango por jugador como rango = max_puntos − min_puntos. **(1 punto)**\n",
    "\n",
    "d. Responder: ¿qué se puede concluir de esos rangos y qué casos destacan? **(1.5 puntos)**"
   ]
  },
  {
   "cell_type": "code",
   "execution_count": 5,
   "id": "d08eee1b-2f2a-4f0b-b79a-167baca1d414",
   "metadata": {},
   "outputs": [
    {
     "data": {
      "text/html": [
       "<div>\n",
       "<style scoped>\n",
       "    .dataframe tbody tr th:only-of-type {\n",
       "        vertical-align: middle;\n",
       "    }\n",
       "\n",
       "    .dataframe tbody tr th {\n",
       "        vertical-align: top;\n",
       "    }\n",
       "\n",
       "    .dataframe thead th {\n",
       "        text-align: right;\n",
       "    }\n",
       "</style>\n",
       "<table border=\"1\" class=\"dataframe\">\n",
       "  <thead>\n",
       "    <tr style=\"text-align: right;\">\n",
       "      <th></th>\n",
       "      <th>player_name</th>\n",
       "      <th>team_abbreviation</th>\n",
       "      <th>age</th>\n",
       "      <th>player_height</th>\n",
       "      <th>player_weight</th>\n",
       "      <th>college</th>\n",
       "      <th>country</th>\n",
       "      <th>gp</th>\n",
       "      <th>pts</th>\n",
       "      <th>reb</th>\n",
       "      <th>ast</th>\n",
       "      <th>season</th>\n",
       "    </tr>\n",
       "  </thead>\n",
       "  <tbody>\n",
       "    <tr>\n",
       "      <th>0</th>\n",
       "      <td>Randy Livingston</td>\n",
       "      <td>HOU</td>\n",
       "      <td>22.0</td>\n",
       "      <td>193.04</td>\n",
       "      <td>94.800728</td>\n",
       "      <td>Louisiana State</td>\n",
       "      <td>USA</td>\n",
       "      <td>64</td>\n",
       "      <td>3.9</td>\n",
       "      <td>1.5</td>\n",
       "      <td>2.4</td>\n",
       "      <td>1996-97</td>\n",
       "    </tr>\n",
       "  </tbody>\n",
       "</table>\n",
       "</div>"
      ],
      "text/plain": [
       "        player_name team_abbreviation   age  player_height  player_weight  \\\n",
       "0  Randy Livingston               HOU  22.0         193.04      94.800728   \n",
       "\n",
       "           college country  gp  pts  reb  ast   season  \n",
       "0  Louisiana State     USA  64  3.9  1.5  2.4  1996-97  "
      ]
     },
     "execution_count": 5,
     "metadata": {},
     "output_type": "execute_result"
    }
   ],
   "source": [
    "df.head(1)"
   ]
  },
  {
   "cell_type": "code",
   "execution_count": null,
   "id": "6ef91659-8793-4017-a21f-0cc82c092977",
   "metadata": {},
   "outputs": [],
   "source": []
  },
  {
   "cell_type": "markdown",
   "id": "b0bb66da-889f-46dd-9666-fba68e7ce64b",
   "metadata": {},
   "source": [
    "**2. ¿Qué jugadores disputaron al menos 60 juegos, tienen un promedio de puntos por juego mayor a 15 y más de 11 asistencias en promedio por partido? (2 puntos)**\n",
    "\n",
    "Entregar la respuesta en un dataframe que contiene las columnas player_name, team_abbreviation y season para los jugadores que cumplen con las condiciones mencionadas."
   ]
  },
  {
   "cell_type": "code",
   "execution_count": null,
   "id": "66da39b0-472c-4738-9d58-5557e0d77870",
   "metadata": {},
   "outputs": [],
   "source": []
  },
  {
   "cell_type": "markdown",
   "id": "98a96b1e-e30b-4acf-a19b-913bc67a1763",
   "metadata": {},
   "source": [
    "**3.** A continuación se construye un DataFrame llamado data_team_info, que contiene información a nivel equipo–temporada. Con base en este DataFrame y en el DataFrame principal df, crear un nuevo DataFrame llamado merge_df realizando un merge a partir de las llaves en común presentes en ambas tablas.\n",
    "\n",
    "**Asegúrense de utilizar una modalidad de unión que conserve toda la información disponible en data_team_info (es decir, que ninguna fila de data_team_info se pierda en el resultado) y no realicen cambios en los nombres de las columnas de ninguno de los dataframes. (2 puntos)**\n"
   ]
  },
  {
   "cell_type": "code",
   "execution_count": 10,
   "id": "53429a69-7367-40a4-9f3e-dd4f30585d40",
   "metadata": {},
   "outputs": [
    {
     "data": {
      "text/html": [
       "<div>\n",
       "<style scoped>\n",
       "    .dataframe tbody tr th:only-of-type {\n",
       "        vertical-align: middle;\n",
       "    }\n",
       "\n",
       "    .dataframe tbody tr th {\n",
       "        vertical-align: top;\n",
       "    }\n",
       "\n",
       "    .dataframe thead th {\n",
       "        text-align: right;\n",
       "    }\n",
       "</style>\n",
       "<table border=\"1\" class=\"dataframe\">\n",
       "  <thead>\n",
       "    <tr style=\"text-align: right;\">\n",
       "      <th></th>\n",
       "      <th>team_abb</th>\n",
       "      <th>Season</th>\n",
       "      <th>Pace_Tier</th>\n",
       "      <th>Playoff_Team</th>\n",
       "      <th>Avg_Age_Team</th>\n",
       "    </tr>\n",
       "  </thead>\n",
       "  <tbody>\n",
       "    <tr>\n",
       "      <th>0</th>\n",
       "      <td>LAL</td>\n",
       "      <td>2017-18</td>\n",
       "      <td>Alta</td>\n",
       "      <td>False</td>\n",
       "      <td>25.2</td>\n",
       "    </tr>\n",
       "    <tr>\n",
       "      <th>1</th>\n",
       "      <td>LAL</td>\n",
       "      <td>2018-19</td>\n",
       "      <td>Alta</td>\n",
       "      <td>False</td>\n",
       "      <td>26.0</td>\n",
       "    </tr>\n",
       "  </tbody>\n",
       "</table>\n",
       "</div>"
      ],
      "text/plain": [
       "  team_abb   Season Pace_Tier  Playoff_Team  Avg_Age_Team\n",
       "0      LAL  2017-18      Alta         False          25.2\n",
       "1      LAL  2018-19      Alta         False          26.0"
      ]
     },
     "execution_count": 10,
     "metadata": {},
     "output_type": "execute_result"
    }
   ],
   "source": [
    "data_team_info = [\n",
    "    {\"team_abb\": \"LAL\", \"Season\": \"2017-18\", \"Pace_Tier\": \"Alta\",  \"Playoff_Team\": False, \"Avg_Age_Team\": 25.2},\n",
    "    {\"team_abb\": \"LAL\", \"Season\": \"2018-19\", \"Pace_Tier\": \"Alta\",  \"Playoff_Team\": False, \"Avg_Age_Team\": 26.0},\n",
    "    {\"team_abb\": \"GSW\", \"Season\": \"2018-19\", \"Pace_Tier\": \"Media\", \"Playoff_Team\": True,  \"Avg_Age_Team\": 27.9},\n",
    "    {\"team_abb\": \"GSW\", \"Season\": \"2019-20\", \"Pace_Tier\": \"Media\", \"Playoff_Team\": False, \"Avg_Age_Team\": 25.6},\n",
    "    {\"team_abb\": \"BOS\", \"Season\": \"2019-20\", \"Pace_Tier\": \"Media\", \"Playoff_Team\": True,  \"Avg_Age_Team\": 25.8},\n",
    "    {\"team_abb\": \"BOS\", \"Season\": \"2020-21\", \"Pace_Tier\": \"Media\", \"Playoff_Team\": True,  \"Avg_Age_Team\": 26.3},\n",
    "    {\"team_abb\": \"MIA\", \"Season\": \"2019-20\", \"Pace_Tier\": \"Baja\",  \"Playoff_Team\": True,  \"Avg_Age_Team\": 26.5},\n",
    "    {\"team_abb\": \"MIA\", \"Season\": \"2020-21\", \"Pace_Tier\": \"Baja\",  \"Playoff_Team\": True,  \"Avg_Age_Team\": 27.1},\n",
    "    {\"team_abb\": \"DAL\", \"Season\": \"2018-19\", \"Pace_Tier\": \"Alta\",  \"Playoff_Team\": False, \"Avg_Age_Team\": 24.9},\n",
    "    {\"team_abb\": \"DAL\", \"Season\": \"2019-20\", \"Pace_Tier\": \"Alta\",  \"Playoff_Team\": True,  \"Avg_Age_Team\": 25.3},\n",
    "    {\"team_abb\": \"CHI\", \"Season\": \"2018-19\", \"Pace_Tier\": \"Media\", \"Playoff_Team\": False, \"Avg_Age_Team\": 24.6},\n",
    "    {\"team_abb\": \"CHI\", \"Season\": \"2019-20\", \"Pace_Tier\": \"Media\", \"Playoff_Team\": False, \"Avg_Age_Team\": 24.8},\n",
    "    {\"team_abb\": \"NYK\", \"Season\": \"2019-20\", \"Pace_Tier\": \"Baja\",  \"Playoff_Team\": False, \"Avg_Age_Team\": 25.0},\n",
    "    {\"team_abb\": \"NYK\", \"Season\": \"2020-21\", \"Pace_Tier\": \"Baja\",  \"Playoff_Team\": True,  \"Avg_Age_Team\": 25.3},\n",
    "    {\"team_abb\": \"PHX\", \"Season\": \"2019-20\", \"Pace_Tier\": \"Alta\",  \"Playoff_Team\": True,  \"Avg_Age_Team\": 24.7},\n",
    "    {\"team_abb\": \"PHX\", \"Season\": \"2020-21\", \"Pace_Tier\": \"Alta\",  \"Playoff_Team\": True,  \"Avg_Age_Team\": 24.9},\n",
    "]\n",
    "\n",
    "data_team_info = pd.DataFrame(data_team_info)\n",
    "data_team_info.head(2)"
   ]
  },
  {
   "cell_type": "code",
   "execution_count": null,
   "id": "7694c93c-ad47-4ad8-a1de-b15a3e61013b",
   "metadata": {},
   "outputs": [],
   "source": []
  },
  {
   "cell_type": "code",
   "execution_count": null,
   "id": "e497b4c7-e0c4-4af0-a3af-02450c7079ce",
   "metadata": {},
   "outputs": [],
   "source": []
  },
  {
   "cell_type": "markdown",
   "id": "5c653008-f0ab-468c-96f0-692a5ebc90e4",
   "metadata": {},
   "source": [
    "**4. A partir del nuevo dataset (merge_df), calcular dos nuevas columnas llamadas total_puntos y PCA (2 puntos)**\n",
    "\n",
    "total_puntos no es más que un estimado de los puntos totales que anotó cada jugador para cada temporada y PCA (Proporción de Creación por Asistencias) mide qué fracción de la contribución ofensiva de un jugador proviene de asistir (crear puntos para otros) vs. anotar.\n",
    "\n",
    "Estas columnas se deben calcular así:\n",
    "\n",
    "\n",
    "$$\n",
    "\\text{total\\_puntos} \\;=\\; \\texttt{pts} \\times \\texttt{gp}\n",
    "$$\n",
    "\n",
    "\n",
    "$$\n",
    "\\text{PCA(Proporción de Creación por Asistencias)} \\;=\\; \\frac{2\\,\\texttt{ast}}{\\texttt{pts} + 2\\,\\texttt{ast}}\n",
    "$$\n",
    "\n",
    "Rango del PCA: 0 a 1.\n",
    "\n",
    "Interpretación:\n",
    "\n",
    "≈ 0.0–0.3: Perfil más anotador (la mayoría de su aporte es convertir puntos propios).\n",
    "\n",
    "≈ 0.3–0.6: Balanceado entre anotar y crear.\n",
    "\n",
    "≈ 0.6–1.0: Perfil más playmaker (gran parte del aporte viene de asistir).\n"
   ]
  },
  {
   "cell_type": "code",
   "execution_count": null,
   "id": "b69ac82f-cfdd-40a2-be9f-0a86d8ef18cf",
   "metadata": {},
   "outputs": [],
   "source": []
  },
  {
   "cell_type": "code",
   "execution_count": null,
   "id": "d74a94d7-aad5-4526-b374-d9502ce36ff7",
   "metadata": {},
   "outputs": [],
   "source": []
  },
  {
   "cell_type": "markdown",
   "id": "bd2db042-a08b-4baa-8da3-283c6b9aaeee",
   "metadata": {},
   "source": [
    "**5. Campaña de ofensiva colaborativa por ritmo (5 puntos en total)**\n",
    "\n",
    "La gerencia deportiva de la NBA quiere promover un juego más colectivo y entender si sus máximos anotadores también crean juego.\n",
    "\n",
    "Para hacer esto, primero deben definir \"high_scorer\" como el top 10% de total_puntos dentro de cada temporada.\n",
    "\n",
    "\n",
    "• Comparar el PCA promedio entre el segmento high_scorer y el resto para cada Pace_Tier. **(4 puntos)**\n",
    "\n",
    "• Responder: ¿En qué Pace_Tier y segmento (high_scorer vs el resto) deberían enfocarse si quieren aumentar la creación de juego (mayor PCA)? **(1 punto)**"
   ]
  },
  {
   "cell_type": "code",
   "execution_count": null,
   "id": "e2288910-119f-42cd-870a-f33c8a6a8273",
   "metadata": {},
   "outputs": [],
   "source": []
  },
  {
   "cell_type": "markdown",
   "id": "f027239b-6694-407f-8066-eeb539ad2983",
   "metadata": {},
   "source": [
    "### Bono:\n",
    "\n",
    "La dirección deportiva quiere entender los puntos totales anuales del equipo LAL (Los Angeles Lakers). Un analista preparó el siguiente código que, debería filtrar, agregar y graficar un bar chart vertical haciendo uso de las mejores prácticas en codificaciones visuales y de creación de gráficos limpios, las cuales se han visto en la clase de Ciencia de Datos.\n",
    "\n",
    "Tarea: Detectar y explicar 4 errores (conceptuales o de código) que impiden que la visualización cumpla lo solicitado y describir cómo corregirlos.\n",
    "\n",
    "**(Puntos posibles: 4)**\n",
    "\n",
    "\n",
    "```python\n",
    "team_points = merge_df.groupby('season').agg(total_pts=('pts','mean')).reset_index()\n",
    "\n",
    "paleta_colores = ['#F52795','#634663','#18A377','#A35B18']\n",
    "\n",
    "fig, ax = plt.subplots(figsize=(8,4))\n",
    "sns.barplot(data=team_points, x='pts', y='season', hue='season', palette=paleta_colores)\n",
    "ax.set_xlabel('Año')\n",
    "ax.set_ylabel('Puntos totales')\n",
    "ax.set_title('Puntos totales por año - LAL')\n",
    "ax.bar_label(ax.containers[0], fmt='%.0f', label_type='edge')\n",
    "plt.show()\n",
    "```"
   ]
  },
  {
   "cell_type": "code",
   "execution_count": null,
   "id": "09d98a08-0c48-4ce3-8e22-b60f1df04cbf",
   "metadata": {},
   "outputs": [],
   "source": []
  },
  {
   "cell_type": "code",
   "execution_count": null,
   "id": "b923144b-23e7-41b4-b429-1570ae135a5d",
   "metadata": {},
   "outputs": [],
   "source": []
  },
  {
   "cell_type": "code",
   "execution_count": null,
   "id": "e67a3542-a09a-4fef-9683-525fd17f82ac",
   "metadata": {},
   "outputs": [],
   "source": []
  }
 ],
 "metadata": {
  "kernelspec": {
   "display_name": "Python 3 (ipykernel)",
   "language": "python",
   "name": "python3"
  },
  "language_info": {
   "codemirror_mode": {
    "name": "ipython",
    "version": 3
   },
   "file_extension": ".py",
   "mimetype": "text/x-python",
   "name": "python",
   "nbconvert_exporter": "python",
   "pygments_lexer": "ipython3",
   "version": "3.12.3"
  }
 },
 "nbformat": 4,
 "nbformat_minor": 5
}
