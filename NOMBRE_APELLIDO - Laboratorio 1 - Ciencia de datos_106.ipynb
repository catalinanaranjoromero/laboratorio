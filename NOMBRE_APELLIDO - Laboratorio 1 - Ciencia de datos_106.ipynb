{
 "cells": [
  {
   "cell_type": "code",
   "execution_count": 1,
   "id": "1e5f57a4-db65-4775-9555-7b8bf588b8d3",
   "metadata": {},
   "outputs": [],
   "source": [
    "import pandas as pd\n",
    "import numpy as np\n",
    "import matplotlib.pyplot as plt\n",
    "import seaborn as sns"
   ]
  },
  {
   "cell_type": "markdown",
   "id": "a420e041-6d09-4843-9edc-b3f006a7d32a",
   "metadata": {},
   "source": [
    "## Laboratorio 1: Análisis de datos de ventas de carros BMW\n",
    "Este dataset contiene registros de ventas de automóviles de la marca BMW, con información relevante sobre las características del vehículo, condiciones de venta y datos numéricos que permiten realizar tareas de análisis exploratorio, limpieza y transformación de datos.\n",
    "\n",
    "**Descripción general**\n",
    "\n",
    "El dataset contiene 50.000 registros de vehículos, y cada fila representa una observación correspondiente a un automóvil individual.\n",
    "\n",
    "| Variable               | Descripción                                                                            |\n",
    "| ---------------------- | -------------------------------------------------------------------------------------- |\n",
    "| `Model`                | Modelo del vehículo (por ejemplo, \"5 Series\", \"X1\").                                   |\n",
    "| `Year`                 | Año de fabricación del vehículo.                                                       |\n",
    "| `Region`               | Región donde fue realizada la venta (por ejemplo, Asia, Europe, etc.).              |\n",
    "| `Color`                | Color del vehículo.                                                                    |\n",
    "| `Fuel_Type`            | Tipo de combustible (Petrol, Diesel, Electric, Hybrid).                                |\n",
    "| `Transmission`         | Tipo de transmisión (Manual o Automatic).                                              |\n",
    "| `Engine_Size_L`        | Tamaño del motor en litros.                                                            |\n",
    "| `Mileage_KM`           | Kilometraje del vehículo en kilómetros.                                                |\n",
    "| `Price_USD`            | Precio de venta del vehículo en dólares estadounidenses.                               |\n",
    "| `Sales_Volume`         | Cantidad de unidades vendidas del modelo en esa configuración.                         |\n",
    "| `Sales_Classification` | Clasificación de ventas (por ejemplo: High, Medium, Low). |\n",
    "\n"
   ]
  },
  {
   "cell_type": "code",
   "execution_count": 3,
   "id": "f3f01e42-c97e-4935-8281-2b5ef77836f4",
   "metadata": {},
   "outputs": [
    {
     "data": {
      "text/html": [
       "<div>\n",
       "<style scoped>\n",
       "    .dataframe tbody tr th:only-of-type {\n",
       "        vertical-align: middle;\n",
       "    }\n",
       "\n",
       "    .dataframe tbody tr th {\n",
       "        vertical-align: top;\n",
       "    }\n",
       "\n",
       "    .dataframe thead th {\n",
       "        text-align: right;\n",
       "    }\n",
       "</style>\n",
       "<table border=\"1\" class=\"dataframe\">\n",
       "  <thead>\n",
       "    <tr style=\"text-align: right;\">\n",
       "      <th></th>\n",
       "      <th>Model</th>\n",
       "      <th>Year</th>\n",
       "      <th>Region</th>\n",
       "      <th>Color</th>\n",
       "      <th>Fuel_Type</th>\n",
       "      <th>Transmission</th>\n",
       "      <th>Engine_Size_L</th>\n",
       "      <th>Mileage_KM</th>\n",
       "      <th>Price_USD</th>\n",
       "      <th>Sales_Volume</th>\n",
       "      <th>Sales_Classification</th>\n",
       "    </tr>\n",
       "  </thead>\n",
       "  <tbody>\n",
       "    <tr>\n",
       "      <th>0</th>\n",
       "      <td>5 Series</td>\n",
       "      <td>2016</td>\n",
       "      <td>Asia</td>\n",
       "      <td>Red</td>\n",
       "      <td>Petrol</td>\n",
       "      <td>Manual</td>\n",
       "      <td>3.5</td>\n",
       "      <td>151748</td>\n",
       "      <td>98740</td>\n",
       "      <td>8300</td>\n",
       "      <td>High</td>\n",
       "    </tr>\n",
       "  </tbody>\n",
       "</table>\n",
       "</div>"
      ],
      "text/plain": [
       "      Model  Year Region Color Fuel_Type Transmission  Engine_Size_L  \\\n",
       "0  5 Series  2016   Asia   Red    Petrol       Manual            3.5   \n",
       "\n",
       "   Mileage_KM  Price_USD  Sales_Volume Sales_Classification  \n",
       "0      151748      98740          8300                 High  "
      ]
     },
     "execution_count": 3,
     "metadata": {},
     "output_type": "execute_result"
    }
   ],
   "source": [
    "df = pd.read_csv('https://raw.githubusercontent.com/catalinanaranjoromero/dataset/refs/heads/main/BMW_Car_Sales_Classification.csv')\n",
    "df.head(1)"
   ]
  },
  {
   "cell_type": "markdown",
   "id": "453a2eb9-495f-4668-be5b-cd06f2d28353",
   "metadata": {},
   "source": [
    "**1. ¿Cuál es el precio promedio de los vehículos por tipo de combustible y transmisión? (1 punto)**\n",
    "\n",
    "Entregar la respuesta en un formato en el que se vea el precio promedio para cada una de las combinaciones enunciadas."
   ]
  },
  {
   "cell_type": "code",
   "execution_count": null,
   "id": "00fac407-9521-467e-baf3-1deeba68f0bc",
   "metadata": {},
   "outputs": [],
   "source": []
  },
  {
   "cell_type": "markdown",
   "id": "68174ed0-21a1-4815-9f48-21a1003e61da",
   "metadata": {},
   "source": [
    "**2. ¿Cuál es el modelo con el mayor número de registros en el dataset? (1 punto)**\n",
    "\n",
    "Entregar la respuesta como cadena de texto"
   ]
  },
  {
   "cell_type": "code",
   "execution_count": null,
   "id": "934e6002-1278-4df9-8b12-fefacaa3d37a",
   "metadata": {},
   "outputs": [],
   "source": []
  },
  {
   "cell_type": "markdown",
   "id": "22d45a24-d2f3-495f-acd6-2b0c032dc05c",
   "metadata": {},
   "source": [
    "**3. ¿Qué vehículos tienen más de 50.000 kilómetros, son modelo 2020 (incluido) hacia arriba y un precio menor a USD 30.050? (1.5 puntos)**\n",
    "\n",
    "Entregar la respuesta en un dataframe que contiene las columnas Model, Year y Color para los vehículos que cumplen con las condiciones mencionadas."
   ]
  },
  {
   "cell_type": "code",
   "execution_count": null,
   "id": "c7b03618-9fdb-41e0-85b3-c0b8155b493b",
   "metadata": {},
   "outputs": [],
   "source": []
  },
  {
   "cell_type": "markdown",
   "id": "1e8afbba-00dd-4d12-a4e6-35f2b30475de",
   "metadata": {},
   "source": [
    "**4. Considerando los vehículos automáticos solamente, ¿cuál es el precio mínimo por cada año de fabricación? (1 punto)**\n",
    "\n",
    "Entregar la respuesta en algún formato en el que se vea por cada año contenido en el dataset el valor solicitado."
   ]
  },
  {
   "cell_type": "code",
   "execution_count": null,
   "id": "dae432d5-3e54-44eb-aced-ebea0e85a133",
   "metadata": {},
   "outputs": [],
   "source": []
  },
  {
   "cell_type": "markdown",
   "id": "86956ae8-3c37-461d-a297-4de99436ac5b",
   "metadata": {},
   "source": [
    "**5. ¿Cuántos vehículos de los modelos 'X5', 'X3', o '1 Series' fueron fabricados entre 2015 y 2018? (2 puntos)**\n",
    "\n",
    "El resultado debe ser un número entero."
   ]
  },
  {
   "cell_type": "code",
   "execution_count": null,
   "id": "02d9b5c9-ea1a-4cc4-a806-5ba549eac03c",
   "metadata": {},
   "outputs": [],
   "source": []
  },
  {
   "cell_type": "markdown",
   "id": "3069ee64-af93-49a0-8976-4fbd6151b49d",
   "metadata": {},
   "source": [
    "**6.** A continuación se construye un DataFrame llamado *data_discounts*, que contiene información sobre los descuentos aplicados a diferentes modelos de carro en ciertos años y regiones. Con base en este DataFrame y en el DataFrame principal df, crear un nuevo DataFrame llamado **merge_df** realizando un merge a partir de las llaves en común presentes en ambas tablas.\n",
    "\n",
    "**Asegúrense de utilizar una modalidad de unión que conserve toda la información disponible en data_discounts, y no realicen cambios en los nombres de las columnas. (2 puntos)** "
   ]
  },
  {
   "cell_type": "code",
   "execution_count": 252,
   "id": "defa38dc-7e43-4d98-a4c5-03cfa581390c",
   "metadata": {},
   "outputs": [
    {
     "data": {
      "text/html": [
       "<div>\n",
       "<style scoped>\n",
       "    .dataframe tbody tr th:only-of-type {\n",
       "        vertical-align: middle;\n",
       "    }\n",
       "\n",
       "    .dataframe tbody tr th {\n",
       "        vertical-align: top;\n",
       "    }\n",
       "\n",
       "    .dataframe thead th {\n",
       "        text-align: right;\n",
       "    }\n",
       "</style>\n",
       "<table border=\"1\" class=\"dataframe\">\n",
       "  <thead>\n",
       "    <tr style=\"text-align: right;\">\n",
       "      <th></th>\n",
       "      <th>Model_Car</th>\n",
       "      <th>year</th>\n",
       "      <th>Region</th>\n",
       "      <th>Avg_Discount_Pct</th>\n",
       "    </tr>\n",
       "  </thead>\n",
       "  <tbody>\n",
       "    <tr>\n",
       "      <th>0</th>\n",
       "      <td>X1</td>\n",
       "      <td>2019</td>\n",
       "      <td>Europe</td>\n",
       "      <td>4.8</td>\n",
       "    </tr>\n",
       "  </tbody>\n",
       "</table>\n",
       "</div>"
      ],
      "text/plain": [
       "  Model_Car  year  Region  Avg_Discount_Pct\n",
       "0        X1  2019  Europe               4.8"
      ]
     },
     "execution_count": 252,
     "metadata": {},
     "output_type": "execute_result"
    }
   ],
   "source": [
    "data_discounts = [\n",
    "    {\"Model_Car\": \"X1\", \"year\": 2019, \"Region\": \"Europe\", \"Avg_Discount_Pct\": 4.8},\n",
    "    {\"Model_Car\": \"X3\", \"year\": 2020, \"Region\": \"North America\", \"Avg_Discount_Pct\": 5.1},\n",
    "    {\"Model_Car\": \"X5\", \"year\": 2021, \"Region\": \"Asia\", \"Avg_Discount_Pct\": 4.6},\n",
    "    {\"Model_Car\": \"3 Series\", \"year\": 2022, \"Region\": \"North America\", \"Avg_Discount_Pct\": 4.9},\n",
    "    {\"Model_Car\": \"5 Series\", \"year\": 2023, \"Region\": \"North America\", \"Avg_Discount_Pct\": 5.0},\n",
    "    {\"Model_Car\": \"7 Series\", \"year\": 2023, \"Region\": \"Asia\", \"Avg_Discount_Pct\": 4.7},\n",
    "    {\"Model_Car\": \"X6\", \"year\": 2020, \"Region\": \"Europe\", \"Avg_Discount_Pct\": 4.5},\n",
    "    {\"Model_Car\": \"i3\", \"year\": 2019, \"Region\": \"North America\", \"Avg_Discount_Pct\": 5.2},\n",
    "    {\"Model_Car\": \"i8\", \"year\": 2021, \"Region\": \"Asia\", \"Avg_Discount_Pct\": 4.4},\n",
    "    {\"Model_Car\": \"X7\", \"year\": 2022, \"Region\": \"Europe\", \"Avg_Discount_Pct\": 4.9},\n",
    "    {\"Model_Car\": \"Z4\", \"year\": 2020, \"Region\": \"North America\", \"Avg_Discount_Pct\": 5.3},\n",
    "    {\"Model_Car\": \"M3\", \"year\": 2021, \"Region\": \"Europe\", \"Avg_Discount_Pct\": 4.8},\n",
    "    {\"Model_Car\": \"M5\", \"year\": 2023, \"Region\": \"Asia\", \"Avg_Discount_Pct\": 5.1},\n",
    "    {\"Model_Car\": \"X2\", \"year\": 2019, \"Region\": \"North America\", \"Avg_Discount_Pct\": 4.7},\n",
    "    {\"Model_Car\": \"X4\", \"year\": 2022, \"Region\": \"Asia\", \"Avg_Discount_Pct\": 5.0},\n",
    "    {\"Model_Car\": \"X8\", \"year\": 2023, \"Region\": \"Europe\", \"Avg_Discount_Pct\": 4.6},\n",
    "    {\"Model_Car\": \"i4\", \"year\": 2022, \"Region\": \"North America\", \"Avg_Discount_Pct\": 5.2},\n",
    "    {\"Model_Car\": \"iX\", \"year\": 2023, \"Region\": \"Asia\", \"Avg_Discount_Pct\": 4.8},\n",
    "    {\"Model_Car\": \"X1\", \"year\": 2021, \"Region\": \"North America\", \"Avg_Discount_Pct\": 5.0},\n",
    "    {\"Model_Car\": \"5 Series\", \"year\": 2022, \"Region\": \"Europe\", \"Avg_Discount_Pct\": 4.9},\n",
    "]\n",
    "\n",
    "data_discounts = pd.DataFrame(data_discounts)\n",
    "data_discounts.head(1)"
   ]
  },
  {
   "cell_type": "code",
   "execution_count": null,
   "id": "08355ec2-05dc-4049-b46f-cb545207cf03",
   "metadata": {},
   "outputs": [],
   "source": []
  },
  {
   "cell_type": "markdown",
   "id": "7321cd38-29f8-4fbe-8279-3d318221e173",
   "metadata": {},
   "source": [
    "**7. A partir del nuevo dataset (merge_df), calcular dos nuevas columnas llamadas Gross_Revenue y Net_Revenue en billones de dólares, definidas como:**\n",
    "\n",
    "\n",
    "\n",
    "\n",
    "$$\n",
    "Gross\\_Revenue = \\frac{Sales\\_Volume \\times Price\\_USD}{1{,}000{,}000{,}000}\n",
    "$$\n",
    "\n",
    "$$\n",
    "Net\\_Revenue = Gross\\_Revenue \\times \\left(1 - \\frac{Avg\\_Discount\\_Pct}{100}\\right)\n",
    "$$\n"
   ]
  },
  {
   "cell_type": "code",
   "execution_count": null,
   "id": "bb3b06bf-a617-4b4e-b9fe-81156279864f",
   "metadata": {},
   "outputs": [],
   "source": []
  },
  {
   "cell_type": "markdown",
   "id": "831bc0f1-774a-48a4-952b-ac1e2365bc0d",
   "metadata": {},
   "source": [
    "**8. A partir del DataFrame que ya contiene las columnas Gross_Revenue y Net_Revenue, calcula para cada tipo de carro el total de ventas brutas y el total de ventas netas. Presenta los resultados en una sola tabla que muestre estos valores consolidados para cada modelo.**"
   ]
  },
  {
   "cell_type": "code",
   "execution_count": null,
   "id": "d84c3289-ea6e-416b-88f0-1d5df814ae7f",
   "metadata": {},
   "outputs": [],
   "source": []
  },
  {
   "cell_type": "markdown",
   "id": "35177500-2bca-425b-b9d6-477a534605bb",
   "metadata": {},
   "source": [
    "### Bono:\n",
    "\n",
    "El CEO de BMW quiere entender las ventas netas anuales en la región de North America. Un analista de datos preparó el siguiente código que, en teoría, prepara los datos y grafica un bar chart vertical, y supuestamente hace uso de las mejores prácticas en codificaciones visuales y de creación de gráficos limpios, las cuales se han visto en la clase de Ciencia de Datos.\n",
    "\n",
    "La tarea es detectar y explicar los errores conceptuales o de código que impiden que la visualización cumpla con lo solicitado y describir cómo se deben corregir. \n",
    "\n",
    "**(Puntos posibles: 4)**\n",
    "\n",
    "\n",
    "```python\n",
    "ventas_noram = merge_df.loc[merge_df.Region=='North America'].groupby('Year').agg(ventas_brutas = ('Gross_Revenue','sum'), \n",
    "                                                                ventas_netas=('Net_Revenue','sum')).reset_index()\n",
    "\n",
    "paleta_colores = ['#F52795','#634663','#18A377','#A35B18','#18A3A3']\n",
    "\n",
    "fig, ax = plt.subplots(figsize=(8,4))\n",
    "sns.barplot(data=merge_df, x='ventas_netas', y='Year', hue='Year', palette=paleta_colores)\n",
    "ax.set_xlabel('Año')\n",
    "ax.set_ylabel('Ventas netas (USD B)')\n",
    "ax.bar_label(ax.containers[0], fmt='%.2f', label_type='center')\n",
    "ax.set_title('Ventas netas por año en América del Norte')\n",
    "plt.show()\n",
    "```"
   ]
  },
  {
   "cell_type": "code",
   "execution_count": null,
   "id": "8de330b7-afeb-4640-85cd-d25396589509",
   "metadata": {},
   "outputs": [],
   "source": []
  },
  {
   "cell_type": "code",
   "execution_count": null,
   "id": "67dc708d-6a44-48f7-b9ba-c79e2bba40b5",
   "metadata": {},
   "outputs": [],
   "source": []
  }
 ],
 "metadata": {
  "kernelspec": {
   "display_name": "Python 3 (ipykernel)",
   "language": "python",
   "name": "python3"
  },
  "language_info": {
   "codemirror_mode": {
    "name": "ipython",
    "version": 3
   },
   "file_extension": ".py",
   "mimetype": "text/x-python",
   "name": "python",
   "nbconvert_exporter": "python",
   "pygments_lexer": "ipython3",
   "version": "3.12.3"
  }
 },
 "nbformat": 4,
 "nbformat_minor": 5
}
